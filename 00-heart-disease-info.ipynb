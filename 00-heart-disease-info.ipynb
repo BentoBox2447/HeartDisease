{
 "cells": [
  {
   "cell_type": "markdown",
   "metadata": {},
   "source": [
    "# Data"
   ]
  },
  {
   "cell_type": "markdown",
   "metadata": {},
   "source": [
    "https://www.kaggle.com/johnsmith88/heart-disease-dataset"
   ]
  },
  {
   "cell_type": "markdown",
   "metadata": {},
   "source": [
    "# CDC FastStats \n",
    "Link: https://www.cdc.gov/nchs/fastats/leading-causes-of-death.htm"
   ]
  },
  {
   "cell_type": "markdown",
   "metadata": {},
   "source": [
    "Top 10 Leading Causes of Death\n",
    "\n",
    "1. Heart disease: 647,457 (23.5%)\n",
    "2. Cancer: 599,108  \n",
    "3. Accidents (unintentional injuries): 169,936  \n",
    "4. Chronic lower respiratory diseases: 160,201  \n",
    "5. Stroke (cerebrovascular diseases): 146,383  \n",
    "6. Alzheimer’s disease: 121,404  \n",
    "7. Diabetes: 83,564  \n",
    "8. Influenza and pneumonia: 55,672  \n",
    "9. Nephritis, nephrotic syndrome, and nephrosis: 50,633  \n",
    "10. Intentional self-harm (suicide): 47,173"
   ]
  },
  {
   "cell_type": "markdown",
   "metadata": {},
   "source": [
    "# Angina\n",
    "Link: https://www.mayoclinic.org/diseases-conditions/angina/symptoms-causes/syc-20369373"
   ]
  },
  {
   "cell_type": "markdown",
   "metadata": {},
   "source": [
    "- Angina is a type of chest pain caused by reduced blood flow to the heart.\n",
    "- It is a symtom of artery disease\n",
    "- Although it's relatively common, it can be hard to distinguish from other types of pain such as indigestion discomfort"
   ]
  },
  {
   "cell_type": "markdown",
   "metadata": {},
   "source": [
    "Symptoms:\n",
    "    - Squeezing\n",
    "    - Pressure\n",
    "    - Heaviness\n",
    "    - Tightness\n",
    "    - Pain\n",
    "        - In your chest"
   ]
  },
  {
   "cell_type": "markdown",
   "metadata": {},
   "source": [
    "# Sources"
   ]
  },
  {
   "cell_type": "markdown",
   "metadata": {},
   "source": [
    "1). “FastStats - Leading Causes of Death.” Centers for Disease Control and Prevention, Centers for Disease Control and Prevention, www.cdc.gov/nchs/fastats/leading-causes-of-death.htm."
   ]
  },
  {
   "cell_type": "markdown",
   "metadata": {},
   "source": [
    "2). Devitt, Michael. “CDC Data Show U.S. Life Expectancy Continues to Decline.” AAFP Home, AAFP, 10 Dec. 2018, www.aafp.org/news/health-of-the-public/20181210lifeexpectdrop.html.\n"
   ]
  },
  {
   "cell_type": "markdown",
   "metadata": {},
   "source": [
    "3). \"CARDIOVASCULAR DISEASE: A COSTLY BURDEN FOR AMERICA.  PROJECTIONS THROGH 2035\" American Heart Association https://healthmetrics.heart.org/wp-content/uploads/2017/10/Cardiovascular-Disease-A-Costly-Burden.pdf"
   ]
  },
  {
   "cell_type": "code",
   "execution_count": null,
   "metadata": {},
   "outputs": [],
   "source": []
  }
 ],
 "metadata": {
  "kernelspec": {
   "display_name": "Python 3",
   "language": "python",
   "name": "python3"
  },
  "language_info": {
   "codemirror_mode": {
    "name": "ipython",
    "version": 3
   },
   "file_extension": ".py",
   "mimetype": "text/x-python",
   "name": "python",
   "nbconvert_exporter": "python",
   "pygments_lexer": "ipython3",
   "version": "3.7.3"
  }
 },
 "nbformat": 4,
 "nbformat_minor": 4
}
